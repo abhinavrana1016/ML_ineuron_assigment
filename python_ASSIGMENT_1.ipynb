{
 "cells": [
  {
   "cell_type": "markdown",
   "metadata": {},
   "source": [
    "# 1:- Write a program which will find all such numbers which are divisible by 7 but are not a multiple of 5, between 2000 and 3200 (both included). The numbers obtained should be printed in a comma-seprated sequence on a single line.\n"
   ]
  },
  {
   "cell_type": "code",
   "execution_count": 1,
   "metadata": {},
   "outputs": [],
   "source": [
    "#create a empty list which will store the number which is divisble by 7 but not by 5\n",
    "num=[]\n",
    "for i in range(2000,3201): # range is a  function in  pyhton which return a sequence of number \n",
    "    if i%7==0:\n",
    "        if i%5!=0:\n",
    "           num.append(str(i))  #append actual values to list ls\n",
    "            \n",
    "print (','.join(num))"
   ]
  },
  {
   "cell_type": "markdown",
   "metadata": {},
   "source": [
    "# 2:-Write a Python program to accept the user's first and last name and then getting them printed in the the reverse order with a space between first name and last name."
   ]
  },
  {
   "cell_type": "code",
   "execution_count": 10,
   "metadata": {},
   "outputs": [
    {
     "name": "stdout",
     "output_type": "stream",
     "text": [
      "enter the first name abhinav\n",
      "enter the last name rana\n",
      "reverse order of the name rana abhinav\n"
     ]
    }
   ],
   "source": [
    "\n",
    "fname = input(\"enter the first name \" )\n",
    "\n",
    "lname = input(\"enter the last name \")\n",
    "print(\"reverse order of the name \"+ lname,fname)"
   ]
  },
  {
   "cell_type": "markdown",
   "metadata": {},
   "source": [
    "# 3:- Write a Python program to find the volume of a sphere with diameter 12 cm.\n",
    "Formula: V=4/3 * π * r^3"
   ]
  },
  {
   "cell_type": "code",
   "execution_count": 3,
   "metadata": {},
   "outputs": [
    {
     "name": "stdout",
     "output_type": "stream",
     "text": [
      "volume of the sphere having diameter 12 cm is 904.7786842338603\n"
     ]
    }
   ],
   "source": [
    "import math\n",
    "diameter = 12\n",
    "radius = diameter/2\n",
    "volume = (4/3)*(math.pi)*(radius**3) \n",
    "print(\"volume of the sphere having diameter 12 cm is\", volume)"
   ]
  },
  {
   "cell_type": "markdown",
   "metadata": {},
   "source": [
    "# 4:-Write a program which accepts a sequence of comma-separated numbers from console and generate a list."
   ]
  },
  {
   "cell_type": "code",
   "execution_count": 6,
   "metadata": {},
   "outputs": [
    {
     "name": "stdout",
     "output_type": "stream",
     "text": [
      " enter the comma seprated numbers : 45,78,98,45,123,654\n",
      "List :  ['45', '78', '98', '45', '123', '654']\n"
     ]
    }
   ],
   "source": [
    "number = input(\" enter the comma seprated numbers : \")\n",
    "list = number.split(\",\")\n",
    "\n",
    "print('List : ',list)\n"
   ]
  },
  {
   "cell_type": "markdown",
   "metadata": {},
   "source": [
    "# 5:-pattern using nested for loop in Python.\n",
    "\n"
   ]
  },
  {
   "cell_type": "code",
   "execution_count": 8,
   "metadata": {},
   "outputs": [
    {
     "name": "stdout",
     "output_type": "stream",
     "text": [
      "\n",
      "* \n",
      "* * \n",
      "* * * \n",
      "* * * * \n",
      "* * * * * \n",
      "* * * * \n",
      "* * * \n",
      "* * \n",
      "* \n"
     ]
    }
   ],
   "source": [
    "n=5;\n",
    "for i in range(n):\n",
    "    for j in range(i):\n",
    "        print ('* ', end=\"\")\n",
    "    print('')\n",
    "\n",
    "for i in range(n,0,-1):\n",
    "    for j in range(i):\n",
    "        print('* ', end=\"\")\n",
    "    print('')"
   ]
  },
  {
   "cell_type": "markdown",
   "metadata": {},
   "source": [
    "# Write a Python program to reverse a word after accepting the input from the user."
   ]
  },
  {
   "cell_type": "code",
   "execution_count": 13,
   "metadata": {},
   "outputs": [
    {
     "name": "stdout",
     "output_type": "stream",
     "text": [
      "enter the word which you want to reverseineuron\n",
      "Reverse of the word norueni\n"
     ]
    }
   ],
   "source": [
    "word = input(\"enter the word which you want to reverse\" )\n",
    "print(\"Reverse of the word \" +word[::-1])"
   ]
  },
  {
   "cell_type": "markdown",
   "metadata": {},
   "source": [
    "# 4.Write a Python Program to print the given string in the format specified in the sample output.\n",
    "WE, THE PEOPLE OF INDIA, having solemnly resolved to constitute India into a SOVEREIGN, SOCIALIST, SECULAR, DEMOCRATIC REPUBLIC and to secure to all its citizens\n",
    "\n",
    "Sample Output:\n",
    "\n",
    "WE, THE PEOPLE OF INDIA,\n",
    "\n",
    "        having solemnly resolved to constitute India into a SOVEREIGN, !\n",
    "\n",
    "                SOCIALIST, SECULAR, DEMOCRATIC REPUBLIC\n",
    "\n",
    "                    and to secure to all its citizens"
   ]
  },
  {
   "cell_type": "code",
   "execution_count": 14,
   "metadata": {},
   "outputs": [
    {
     "name": "stdout",
     "output_type": "stream",
     "text": [
      "WE, THE PEOPLE OF INDIA,\n",
      "\thaving solemnly resolved to constitute India into a SOVEREIGN,!\r\n",
      "\t\tSOCIALIST, SECULAR, DEMOCRATIC REPUBLIC\r\n",
      "\t\t and to secure to all its citizens\n"
     ]
    }
   ],
   "source": [
    "\n",
    "print(\"WE, THE PEOPLE OF INDIA,\")\n",
    "print(\"\\thaving solemnly resolved to constitute India into a SOVEREIGN,!\\r\")\n",
    "print(\"\\t\\tSOCIALIST, SECULAR, DEMOCRATIC REPUBLIC\"+ \"\\r\")\n",
    "print(\"\\t\\t and to secure to all its citizens\")"
   ]
  },
  {
   "cell_type": "code",
   "execution_count": null,
   "metadata": {},
   "outputs": [],
   "source": []
  }
 ],
 "metadata": {
  "kernelspec": {
   "display_name": "Python 3",
   "language": "python",
   "name": "python3"
  },
  "language_info": {
   "codemirror_mode": {
    "name": "ipython",
    "version": 3
   },
   "file_extension": ".py",
   "mimetype": "text/x-python",
   "name": "python",
   "nbconvert_exporter": "python",
   "pygments_lexer": "ipython3",
   "version": "3.7.6"
  }
 },
 "nbformat": 4,
 "nbformat_minor": 4
}
