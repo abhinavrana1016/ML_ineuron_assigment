{
 "cells": [
  {
   "cell_type": "markdown",
   "metadata": {},
   "source": [
    "# 1:- Write a program which will find all such numbers which are divisible by 7 but are not a multiple of 5, between 2000 and 3200 (both included). The numbers obtained should be printed in a comma-seprated sequence on a single line.\n"
   ]
  },
  {
   "cell_type": "code",
   "execution_count": 1,
   "metadata": {},
   "outputs": [],
   "source": [
    "#create a empty list which will store the number which is divisble by 7 but not by 5\n",
    "num=[]\n",
    "for i in range(2000,3201): # range is a  function in  pyhton which return a sequence of number \n",
    "    if i%7==0:\n",
    "        if i%5!=0:\n",
    "           num.append(str(i))  #append actual values to list ls\n",
    "            \n",
    "print (','.join(num))"
   ]
  },
  {
   "cell_type": "markdown",
   "metadata": {},
   "source": [
    "# 2:-Write a Python program to accept the user's first and last name and then getting them printed in the the reverse order with a space between first name and last name."
   ]
  },
  {
   "cell_type": "code",
   "execution_count": 10,
   "metadata": {},
   "outputs": [
    {
     "name": "stdout",
     "output_type": "stream",
     "text": [
      "enter the first name abhinav\n",
      "enter the last name rana\n",
      "reverse order of the name rana abhinav\n"
     ]
    }
   ],
   "source": [
    "\n",
    "fname = input(\"enter the first name \" )\n",
    "\n",
    "lname = input(\"enter the last name \")\n",
    "print(\"reverse order of the name \"+ lname,fname)"
   ]
  },
  {
   "cell_type": "markdown",
   "metadata": {},
   "source": [
    "# 3:- Write a Python program to find the volume of a sphere with diameter 12 cm.\n",
    "Formula: V=4/3 * π * r^3"
   ]
  },
  {
   "cell_type": "code",
   "execution_count": 3,
   "metadata": {},
   "outputs": [
    {
     "name": "stdout",
     "output_type": "stream",
     "text": [
      "volume of the sphere having diameter 12 cm is 904.7786842338603\n"
     ]
    }
   ],
   "source": [
    "import math\n",
    "diameter = 12\n",
    "radius = diameter/2\n",
    "volume = (4/3)*(math.pi)*(radius**3) \n",
    "print(\"volume of the sphere having diameter 12 cm is\", volume)"
   ]
  }
 ],
 "metadata": {
  "kernelspec": {
   "display_name": "Python 3",
   "language": "python",
   "name": "python3"
  },
  "language_info": {
   "codemirror_mode": {
    "name": "ipython",
    "version": 3
   },
   "file_extension": ".py",
   "mimetype": "text/x-python",
   "name": "python",
   "nbconvert_exporter": "python",
   "pygments_lexer": "ipython3",
   "version": "3.7.6"
  }
 },
 "nbformat": 4,
 "nbformat_minor": 4
}
